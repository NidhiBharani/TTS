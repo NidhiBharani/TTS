{
 "cells": [
  {
   "cell_type": "code",
   "execution_count": 2,
   "metadata": {},
   "outputs": [],
   "source": [
    "import pandas as pd"
   ]
  },
  {
   "cell_type": "code",
   "execution_count": 3,
   "metadata": {},
   "outputs": [],
   "source": [
    "file_path = \"/home/nidhi/Documents/animedub/audio/data/jsss_ver1/short-form/basic5000/transcript_utf8.txt\"\n",
    "\n",
    "df = pd.read_csv(file_path, sep=':', names = [\"wav_filename\",\"transcript\"])"
   ]
  },
  {
   "cell_type": "code",
   "execution_count": 5,
   "metadata": {},
   "outputs": [
    {
     "data": {
      "text/html": [
       "<div>\n",
       "<style scoped>\n",
       "    .dataframe tbody tr th:only-of-type {\n",
       "        vertical-align: middle;\n",
       "    }\n",
       "\n",
       "    .dataframe tbody tr th {\n",
       "        vertical-align: top;\n",
       "    }\n",
       "\n",
       "    .dataframe thead th {\n",
       "        text-align: right;\n",
       "    }\n",
       "</style>\n",
       "<table border=\"1\" class=\"dataframe\">\n",
       "  <thead>\n",
       "    <tr style=\"text-align: right;\">\n",
       "      <th></th>\n",
       "      <th>wav_filename</th>\n",
       "      <th>transcript</th>\n",
       "    </tr>\n",
       "  </thead>\n",
       "  <tbody>\n",
       "    <tr>\n",
       "      <th>0</th>\n",
       "      <td>BASIC5000_0001</td>\n",
       "      <td>水をマレーシアから買わなくてはならないのです。</td>\n",
       "    </tr>\n",
       "    <tr>\n",
       "      <th>1</th>\n",
       "      <td>BASIC5000_0002</td>\n",
       "      <td>木曜日停戦会談は、何の進展もないまま終了しました。</td>\n",
       "    </tr>\n",
       "    <tr>\n",
       "      <th>2</th>\n",
       "      <td>BASIC5000_0003</td>\n",
       "      <td>上院議員は、私がデータをゆがめたと告発した。</td>\n",
       "    </tr>\n",
       "    <tr>\n",
       "      <th>3</th>\n",
       "      <td>BASIC5000_0004</td>\n",
       "      <td>１週間してそのニュースは本当になった。</td>\n",
       "    </tr>\n",
       "    <tr>\n",
       "      <th>4</th>\n",
       "      <td>BASIC5000_0005</td>\n",
       "      <td>血圧は健康のパロメーターとして重要である。</td>\n",
       "    </tr>\n",
       "  </tbody>\n",
       "</table>\n",
       "</div>"
      ],
      "text/plain": [
       "     wav_filename                 transcript\n",
       "0  BASIC5000_0001    水をマレーシアから買わなくてはならないのです。\n",
       "1  BASIC5000_0002  木曜日停戦会談は、何の進展もないまま終了しました。\n",
       "2  BASIC5000_0003     上院議員は、私がデータをゆがめたと告発した。\n",
       "3  BASIC5000_0004        １週間してそのニュースは本当になった。\n",
       "4  BASIC5000_0005      血圧は健康のパロメーターとして重要である。"
      ]
     },
     "execution_count": 5,
     "metadata": {},
     "output_type": "execute_result"
    }
   ],
   "source": [
    "df.head()"
   ]
  },
  {
   "cell_type": "code",
   "execution_count": 6,
   "metadata": {},
   "outputs": [],
   "source": [
    "metadata_filepath = \"/home/nidhi/Documents/animedub/audio/data/jsss_ver1/short-form/basic5000/metadata.txt\"\n",
    "df.to_csv(metadata_filepath, index=None, sep='\\t')"
   ]
  }
 ],
 "metadata": {
  "interpreter": {
   "hash": "72fd0a118b89e1e098684ebdf3f38d123760ca233ecf0b0ce131b794f01e7ad8"
  },
  "kernelspec": {
   "display_name": "Python 3.8.12",
   "language": "python",
   "name": "python3"
  },
  "language_info": {
   "codemirror_mode": {
    "name": "ipython",
    "version": 3
   },
   "file_extension": ".py",
   "mimetype": "text/x-python",
   "name": "python",
   "nbconvert_exporter": "python",
   "pygments_lexer": "ipython3",
   "version": "3.8.12"
  },
  "orig_nbformat": 4
 },
 "nbformat": 4,
 "nbformat_minor": 2
}
