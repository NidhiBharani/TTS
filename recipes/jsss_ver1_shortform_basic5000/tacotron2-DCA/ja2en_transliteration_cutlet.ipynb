{
 "cells": [
  {
   "cell_type": "code",
   "execution_count": 1,
   "metadata": {},
   "outputs": [],
   "source": [
    "import cutlet\n",
    "katsu = cutlet.Cutlet()"
   ]
  },
  {
   "cell_type": "code",
   "execution_count": 2,
   "metadata": {},
   "outputs": [],
   "source": [
    "import pandas as pd"
   ]
  },
  {
   "cell_type": "code",
   "execution_count": null,
   "metadata": {},
   "outputs": [],
   "source": [
    "ja_txt = \"水をマレーシアから買わなくてはならないのです。\"\n",
    "katsu.romaji(ja_txt)"
   ]
  },
  {
   "cell_type": "code",
   "execution_count": null,
   "metadata": {},
   "outputs": [],
   "source": [
    "# don't use english spelling\n",
    "katsu.use_foreign_spelling = False\n",
    "katsu.romaji(ja_txt)"
   ]
  },
  {
   "cell_type": "code",
   "execution_count": null,
   "metadata": {},
   "outputs": [],
   "source": [
    "#different Japanese dialects available too.\n",
    "# kunreisiki, nihonsiki work too\n",
    "katu = cutlet.Cutlet('kunrei')\n",
    "katu.romaji(ja_txt)"
   ]
  },
  {
   "cell_type": "markdown",
   "metadata": {},
   "source": [
    "TRANSLIETRATION (Japanese to English)"
   ]
  },
  {
   "cell_type": "code",
   "execution_count": 26,
   "metadata": {},
   "outputs": [],
   "source": [
    "#go over the metadata file\n",
    "#Use cutlet to transcribe 2nd column. Then delete it.\n",
    "\n",
    "rows = [] #list of lists. \n",
    "\n",
    "metadata_file = \"/home/nidhi/Documents/animedub/audio/data/jsss_ver1/short-form/basic5000/metadata.txt\"\n",
    "with open(metadata_file, \"r\", encoding=\"utf-8\") as ttf:\n",
    "        for line in ttf:\n",
    "            cols = line.split(\"\\t\")\n",
    "            cols.append(katsu.romaji(cols[-1]))\n",
    "            del cols[1]\n",
    "\n",
    "            rows.append(cols)"
   ]
  },
  {
   "cell_type": "code",
   "execution_count": 27,
   "metadata": {},
   "outputs": [
    {
     "data": {
      "text/html": [
       "<div>\n",
       "<style scoped>\n",
       "    .dataframe tbody tr th:only-of-type {\n",
       "        vertical-align: middle;\n",
       "    }\n",
       "\n",
       "    .dataframe tbody tr th {\n",
       "        vertical-align: top;\n",
       "    }\n",
       "\n",
       "    .dataframe thead th {\n",
       "        text-align: right;\n",
       "    }\n",
       "</style>\n",
       "<table border=\"1\" class=\"dataframe\">\n",
       "  <thead>\n",
       "    <tr style=\"text-align: right;\">\n",
       "      <th></th>\n",
       "      <th>filename</th>\n",
       "      <th>transcript</th>\n",
       "    </tr>\n",
       "  </thead>\n",
       "  <tbody>\n",
       "    <tr>\n",
       "      <th>0</th>\n",
       "      <td>BASIC5000_0001</td>\n",
       "      <td>Mizu wo Malaysia kara kawanakute wa naranai no...</td>\n",
       "    </tr>\n",
       "    <tr>\n",
       "      <th>1</th>\n",
       "      <td>BASIC5000_0002</td>\n",
       "      <td>Mokuyou hi teisen kaidan wa, nan no shinten mo...</td>\n",
       "    </tr>\n",
       "    <tr>\n",
       "      <th>2</th>\n",
       "      <td>BASIC5000_0003</td>\n",
       "      <td>Jouin giin wa, watakushi ga data wo yugameta t...</td>\n",
       "    </tr>\n",
       "    <tr>\n",
       "      <th>3</th>\n",
       "      <td>BASIC5000_0004</td>\n",
       "      <td>1 shuukan shite sono news wa hontou ni natta.</td>\n",
       "    </tr>\n",
       "    <tr>\n",
       "      <th>4</th>\n",
       "      <td>BASIC5000_0005</td>\n",
       "      <td>Ketsuatsu wa kenkou no Paro meter to shite juu...</td>\n",
       "    </tr>\n",
       "  </tbody>\n",
       "</table>\n",
       "</div>"
      ],
      "text/plain": [
       "         filename                                         transcript\n",
       "0  BASIC5000_0001  Mizu wo Malaysia kara kawanakute wa naranai no...\n",
       "1  BASIC5000_0002  Mokuyou hi teisen kaidan wa, nan no shinten mo...\n",
       "2  BASIC5000_0003  Jouin giin wa, watakushi ga data wo yugameta t...\n",
       "3  BASIC5000_0004      1 shuukan shite sono news wa hontou ni natta.\n",
       "4  BASIC5000_0005  Ketsuatsu wa kenkou no Paro meter to shite juu..."
      ]
     },
     "execution_count": 27,
     "metadata": {},
     "output_type": "execute_result"
    }
   ],
   "source": [
    "# change list to df.\n",
    "df = pd.DataFrame(rows, columns = [\"filename\",\"transcript\"])\n",
    "df.head()"
   ]
  },
  {
   "cell_type": "code",
   "execution_count": 29,
   "metadata": {},
   "outputs": [],
   "source": [
    "df.to_csv(\"/home/nidhi/Documents/animedub/audio/data/jsss_ver1/short-form/basic5000/cutlet_metadata.csv\", index = False, sep='\\t')"
   ]
  },
  {
   "cell_type": "markdown",
   "metadata": {},
   "source": [
    "TRANSLITERATION without the use of foreign words."
   ]
  },
  {
   "cell_type": "code",
   "execution_count": 3,
   "metadata": {},
   "outputs": [],
   "source": [
    "#go over the metadata file\n",
    "#Use cutlet to transcribe 2nd column. Then delete it.\n",
    "\n",
    "katsu_2 = cutlet.Cutlet()\n",
    "katsu_2.use_foreign_spelling = False\n",
    "rows = [] #list of lists. \n",
    "\n",
    "metadata_file = \"/home/nidhi/Documents/animedub/audio/data/jsss_ver1/short-form/basic5000/metadata.txt\"\n",
    "with open(metadata_file, \"r\", encoding=\"utf-8\") as ttf:\n",
    "        for line in ttf:\n",
    "            cols = line.split(\"\\t\")\n",
    "            cols.append(katsu_2.romaji(cols[-1]))\n",
    "            del cols[1]\n",
    "\n",
    "            rows.append(cols)"
   ]
  },
  {
   "cell_type": "code",
   "execution_count": 7,
   "metadata": {},
   "outputs": [
    {
     "data": {
      "text/html": [
       "<div>\n",
       "<style scoped>\n",
       "    .dataframe tbody tr th:only-of-type {\n",
       "        vertical-align: middle;\n",
       "    }\n",
       "\n",
       "    .dataframe tbody tr th {\n",
       "        vertical-align: top;\n",
       "    }\n",
       "\n",
       "    .dataframe thead th {\n",
       "        text-align: right;\n",
       "    }\n",
       "</style>\n",
       "<table border=\"1\" class=\"dataframe\">\n",
       "  <thead>\n",
       "    <tr style=\"text-align: right;\">\n",
       "      <th></th>\n",
       "      <th>filename</th>\n",
       "      <th>transcript</th>\n",
       "    </tr>\n",
       "  </thead>\n",
       "  <tbody>\n",
       "    <tr>\n",
       "      <th>0</th>\n",
       "      <td>BASIC5000_0001</td>\n",
       "      <td>Mizu wo Mareeshia kara kawanakute wa naranai n...</td>\n",
       "    </tr>\n",
       "    <tr>\n",
       "      <th>1</th>\n",
       "      <td>BASIC5000_0002</td>\n",
       "      <td>Mokuyou hi teisen kaidan wa, nan no shinten mo...</td>\n",
       "    </tr>\n",
       "    <tr>\n",
       "      <th>2</th>\n",
       "      <td>BASIC5000_0003</td>\n",
       "      <td>Jouin giin wa, watakushi ga deeta wo yugameta ...</td>\n",
       "    </tr>\n",
       "    <tr>\n",
       "      <th>3</th>\n",
       "      <td>BASIC5000_0004</td>\n",
       "      <td>1 shuukan shite sono nyuusu wa hontou ni natta.</td>\n",
       "    </tr>\n",
       "    <tr>\n",
       "      <th>4</th>\n",
       "      <td>BASIC5000_0005</td>\n",
       "      <td>Ketsuatsu wa kenkou no Paro meetaa to shite ju...</td>\n",
       "    </tr>\n",
       "  </tbody>\n",
       "</table>\n",
       "</div>"
      ],
      "text/plain": [
       "         filename                                         transcript\n",
       "0  BASIC5000_0001  Mizu wo Mareeshia kara kawanakute wa naranai n...\n",
       "1  BASIC5000_0002  Mokuyou hi teisen kaidan wa, nan no shinten mo...\n",
       "2  BASIC5000_0003  Jouin giin wa, watakushi ga deeta wo yugameta ...\n",
       "3  BASIC5000_0004    1 shuukan shite sono nyuusu wa hontou ni natta.\n",
       "4  BASIC5000_0005  Ketsuatsu wa kenkou no Paro meetaa to shite ju..."
      ]
     },
     "execution_count": 7,
     "metadata": {},
     "output_type": "execute_result"
    }
   ],
   "source": [
    "# change list to df.\n",
    "df2 = pd.DataFrame(rows, columns = [\"filename\",\"transcript\"])\n",
    "df2.head()"
   ]
  },
  {
   "cell_type": "code",
   "execution_count": 6,
   "metadata": {},
   "outputs": [],
   "source": [
    "df2.to_csv(\"/home/nidhi/Documents/animedub/audio/data/jsss_ver1/short-form/basic5000/cutlet_metadata_no_eng_words.csv\", index = False, sep='\\t')"
   ]
  }
 ],
 "metadata": {
  "interpreter": {
   "hash": "49d934e41b6797048db9f64709b65ccc3c0d240cc9a27889daf6c97953dd58a0"
  },
  "kernelspec": {
   "display_name": "Python 3.8.12 ('coqui': venv)",
   "language": "python",
   "name": "python3"
  },
  "language_info": {
   "codemirror_mode": {
    "name": "ipython",
    "version": 3
   },
   "file_extension": ".py",
   "mimetype": "text/x-python",
   "name": "python",
   "nbconvert_exporter": "python",
   "pygments_lexer": "ipython3",
   "version": "3.8.12"
  },
  "orig_nbformat": 4
 },
 "nbformat": 4,
 "nbformat_minor": 2
}
